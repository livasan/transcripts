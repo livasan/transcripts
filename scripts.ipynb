{
 "cells": [
  {
   "cell_type": "code",
   "execution_count": 2,
   "id": "7554bc65",
   "metadata": {
    "ExecuteTime": {
     "end_time": "2023-10-07T01:37:18.719288300Z",
     "start_time": "2023-10-07T01:37:18.704275600Z"
    }
   },
   "outputs": [],
   "source": [
    "import pandas as pd\n",
    "import requests\n",
    "from urllib.parse import urlparse, parse_qs\n",
    "import os\n",
    "from pydrive.auth import GoogleAuth\n",
    "\n",
    "from pydrive.drive import GoogleDrive\n",
    "\n",
    "import json\n",
    "import gdown\n",
    "from string import ascii_letters as letters\n",
    "import re"
   ]
  },
  {
   "cell_type": "code",
   "execution_count": 3,
   "id": "457cb7cf",
   "metadata": {
    "ExecuteTime": {
     "end_time": "2023-10-07T01:37:20.689371400Z",
     "start_time": "2023-10-07T01:37:19.971186900Z"
    }
   },
   "outputs": [
    {
     "name": "stdout",
     "output_type": "stream",
     "text": [
      "Your browser has been opened to visit:\n",
      "\n",
      "    https://accounts.google.com/o/oauth2/auth?client_id=911515843534-tovhamtddg2t9f43fk19k21t0kj7cnon.apps.googleusercontent.com&redirect_uri=http%3A%2F%2Flocalhost%3A8080%2F&scope=https%3A%2F%2Fwww.googleapis.com%2Fauth%2Fdrive&access_type=offline&response_type=code\n",
      "Authentication successful.\n"
     ]
    }
   ],
   "source": [
    "gauth = GoogleAuth()\n",
    "gauth.LocalWebserverAuth()\n",
    "\n",
    "drive = GoogleDrive(gauth)"
   ]
  },
  {
   "cell_type": "code",
   "execution_count": 4,
   "id": "ff888a76",
   "metadata": {
    "ExecuteTime": {
     "end_time": "2023-10-07T01:37:25.078170400Z",
     "start_time": "2023-10-07T01:37:25.018116900Z"
    }
   },
   "outputs": [
    {
     "name": "stderr",
     "output_type": "stream",
     "text": [
      "A subdirectory or file data already exists.\n"
     ]
    }
   ],
   "source": [
    "!mkdir data"
   ]
  },
  {
   "cell_type": "code",
   "execution_count": 5,
   "id": "a6c6d79a",
   "metadata": {
    "ExecuteTime": {
     "end_time": "2023-10-07T01:37:25.679002Z",
     "start_time": "2023-10-07T01:37:25.654980300Z"
    }
   },
   "outputs": [],
   "source": [
    "data = pd.read_csv('results_txt/results.csv')\n",
    "data['flag'] = data['flag'].apply(lambda a: 'Speaker ' + a)\n",
    "data['название'] = data['название'].apply(lambda s: re.sub(r'[.,\"\\'-?:!;]', '', s).\n",
    "                                          strip().replace(\" \", \"_\"))"
   ]
  },
  {
   "cell_type": "code",
   "execution_count": 6,
   "id": "225d3562",
   "metadata": {
    "ExecuteTime": {
     "end_time": "2023-10-07T01:37:28.541680400Z",
     "start_time": "2023-10-07T01:37:28.522663Z"
    }
   },
   "outputs": [
    {
     "data": {
      "text/plain": "            автор                                           название  берем  \\\n0            Amod             mental_health_counseling_conversations    NaN   \n1   heliosbrahmaд                      mental_health_chatbot_dataset    NaN   \n2   Mark Fisher\\r  Открытая_консультация_психолога__хочу_отношени...    NaN   \n3   Mark Fisher\\r  Открытая_консультация_психолога__хочу_отношени...    NaN   \n4   Mark Fisher\\r  Открытая_консультация_психолога__Алкоголизм__У...    NaN   \n5   Mark Fisher\\r  Найти_себя__расставание__сепарация__открытая_к...    NaN   \n6   Mark Fisher\\r  Открытая_консультация_психолога__Родительство_...    NaN   \n7   Mark Fisher\\r  Развод__медийность__агрессия__консультация_пси...    NaN   \n8   Mark Fisher\\r  Страх_жизни__найти_свое_место__консультация_пс...    NaN   \n9   Mark Fisher\\r  Расставание__Зависимость__Консультация_с_психо...    NaN   \n10  Mark Fisher\\r  Думаю_о_расставании__надо_расставаться__Консул...    NaN   \n11  Mark Fisher\\r  Панические_атаки__Страх_смерти__Каковы_причины...    NaN   \n12  Mark Fisher\\r  Внутренний_критик_не_даёт_жить__Подавленная_аг...    NaN   \n13  Mark Fisher\\r  Думаю_о_расставании_в_самом_начале__Страх_отно...    NaN   \n14  Mark Fisher\\r  Как_избавиться_от_чувства_вины__Отношения_с_бы...    NaN   \n15  Mark Fisher\\r  Как_просить_о_помощи__Страх_за_детей__Открытая...    NaN   \n16  Mark Fisher\\r  Почему_я_до_сих_пор_не_зарабатываю_много_Как_у...    NaN   \n17  Mark Fisher\\r  Открытая_консультация_психолога__сильные_чувст...    NaN   \n18  Mark Fisher\\r  ЖИВАЯ_КОНСУЛЬТАЦИЯ_ПСИХОЛОГА__Алкоголизм_треуг...    NaN   \n19  Mark Fisher\\r  Дать_себе_время__Изучить_себя_пощупать_себя__К...    NaN   \n\n    проблема                                               TEXT  \\\n0        NaN  https://drive.google.com/file/d/1D6mmyud1pL1v-...   \n1        NaN  https://drive.google.com/file/d/1605EyVkjyGqHD...   \n2        NaN  https://drive.google.com/open?id=1Fows9_H6R_k8...   \n3        NaN  https://drive.google.com/open?id=1yCcQqfBDxWpF...   \n4        NaN  https://drive.google.com/open?id=1q-FflfkGdHdK...   \n5        NaN  https://drive.google.com/open?id=1RwkTWxBc8N2g...   \n6        NaN  https://drive.google.com/open?id=1DEjfL36uRwce...   \n7        NaN  https://drive.google.com/open?id=1ad5YcYKR3HVr...   \n8        NaN  https://drive.google.com/open?id=1zQiPTLCYVEWO...   \n9        NaN  https://drive.google.com/open?id=1R7xzYf4vQRjN...   \n10       NaN  https://drive.google.com/open?id=14t40Uh9kCL8A...   \n11       NaN  https://drive.google.com/open?id=1W6XMMQyqY6n8...   \n12       NaN  https://drive.google.com/open?id=1umT3tbjmqYR_...   \n13       NaN  https://drive.google.com/open?id=1AxoeEukkIjlW...   \n14       NaN  https://drive.google.com/open?id=1tbMEOayVN_GT...   \n15       NaN  https://drive.google.com/open?id=1wXnIcg1tewyi...   \n16       NaN  https://drive.google.com/open?id=1KlHdpDX0UrnR...   \n17       NaN  https://drive.google.com/open?id=1MQS8gHzDWTsS...   \n18       NaN  https://drive.google.com/open?id=1gMw_v4bmEeJv...   \n19       NaN  https://drive.google.com/open?id=1EypBWyBqGSqk...   \n\n                                                VIDEO       flag  \n0   https://huggingface.co/datasets/Amod/mental_he...  Speaker A  \n1   https://huggingface.co/datasets/heliosbrahma/m...  Speaker A  \n2   Открытая консультация психолога // хочу отноше...  Speaker B  \n3   Открытая консультация психолога / хочу отношен...  Speaker A  \n4   Открытая консультация психолога / Алкоголизм /...  Speaker B  \n5   Найти себя / расставание / сепарация / открыта...  Speaker B  \n6   Открытая консультация психолога / Родительство...  Speaker B  \n7   Развод / медийность / агрессия / консультация ...  Speaker B  \n8   Страх жизни / найти свое место / консультация ...  Speaker B  \n9   Расставание / Зависимость / Консультация с пси...  Speaker B  \n10  Думаю о расставании - надо расставаться? / Кон...  Speaker B  \n11  Панические атаки / Страх смерти / Каковы причи...  Speaker B  \n12  Внутренний критик не даёт жить / Подавленная а...  Speaker B  \n13  Думаю о расставании в самом начале / Страх отн...  Speaker B  \n14  Как избавиться от чувства вины / Отношения с б...  Speaker B  \n15  Как просить о помощи / Страх за детей / Открыт...  Speaker A  \n16  Почему я до сих пор не зарабатываю много? Как ...  Speaker B  \n17  Открытая консультация психолога // сильные чув...  Speaker A  \n18  ЖИВАЯ КОНСУЛЬТАЦИЯ ПСИХОЛОГА // Алкоголизм, тр...  Speaker B  \n19  Дать себе время / Изучить себя, \"пощупать\" себ...  Speaker B  ",
      "text/html": "<div>\n<style scoped>\n    .dataframe tbody tr th:only-of-type {\n        vertical-align: middle;\n    }\n\n    .dataframe tbody tr th {\n        vertical-align: top;\n    }\n\n    .dataframe thead th {\n        text-align: right;\n    }\n</style>\n<table border=\"1\" class=\"dataframe\">\n  <thead>\n    <tr style=\"text-align: right;\">\n      <th></th>\n      <th>автор</th>\n      <th>название</th>\n      <th>берем</th>\n      <th>проблема</th>\n      <th>TEXT</th>\n      <th>VIDEO</th>\n      <th>flag</th>\n    </tr>\n  </thead>\n  <tbody>\n    <tr>\n      <th>0</th>\n      <td>Amod</td>\n      <td>mental_health_counseling_conversations</td>\n      <td>NaN</td>\n      <td>NaN</td>\n      <td>https://drive.google.com/file/d/1D6mmyud1pL1v-...</td>\n      <td>https://huggingface.co/datasets/Amod/mental_he...</td>\n      <td>Speaker A</td>\n    </tr>\n    <tr>\n      <th>1</th>\n      <td>heliosbrahmaд</td>\n      <td>mental_health_chatbot_dataset</td>\n      <td>NaN</td>\n      <td>NaN</td>\n      <td>https://drive.google.com/file/d/1605EyVkjyGqHD...</td>\n      <td>https://huggingface.co/datasets/heliosbrahma/m...</td>\n      <td>Speaker A</td>\n    </tr>\n    <tr>\n      <th>2</th>\n      <td>Mark Fisher\\r</td>\n      <td>Открытая_консультация_психолога__хочу_отношени...</td>\n      <td>NaN</td>\n      <td>NaN</td>\n      <td>https://drive.google.com/open?id=1Fows9_H6R_k8...</td>\n      <td>Открытая консультация психолога // хочу отноше...</td>\n      <td>Speaker B</td>\n    </tr>\n    <tr>\n      <th>3</th>\n      <td>Mark Fisher\\r</td>\n      <td>Открытая_консультация_психолога__хочу_отношени...</td>\n      <td>NaN</td>\n      <td>NaN</td>\n      <td>https://drive.google.com/open?id=1yCcQqfBDxWpF...</td>\n      <td>Открытая консультация психолога / хочу отношен...</td>\n      <td>Speaker A</td>\n    </tr>\n    <tr>\n      <th>4</th>\n      <td>Mark Fisher\\r</td>\n      <td>Открытая_консультация_психолога__Алкоголизм__У...</td>\n      <td>NaN</td>\n      <td>NaN</td>\n      <td>https://drive.google.com/open?id=1q-FflfkGdHdK...</td>\n      <td>Открытая консультация психолога / Алкоголизм /...</td>\n      <td>Speaker B</td>\n    </tr>\n    <tr>\n      <th>5</th>\n      <td>Mark Fisher\\r</td>\n      <td>Найти_себя__расставание__сепарация__открытая_к...</td>\n      <td>NaN</td>\n      <td>NaN</td>\n      <td>https://drive.google.com/open?id=1RwkTWxBc8N2g...</td>\n      <td>Найти себя / расставание / сепарация / открыта...</td>\n      <td>Speaker B</td>\n    </tr>\n    <tr>\n      <th>6</th>\n      <td>Mark Fisher\\r</td>\n      <td>Открытая_консультация_психолога__Родительство_...</td>\n      <td>NaN</td>\n      <td>NaN</td>\n      <td>https://drive.google.com/open?id=1DEjfL36uRwce...</td>\n      <td>Открытая консультация психолога / Родительство...</td>\n      <td>Speaker B</td>\n    </tr>\n    <tr>\n      <th>7</th>\n      <td>Mark Fisher\\r</td>\n      <td>Развод__медийность__агрессия__консультация_пси...</td>\n      <td>NaN</td>\n      <td>NaN</td>\n      <td>https://drive.google.com/open?id=1ad5YcYKR3HVr...</td>\n      <td>Развод / медийность / агрессия / консультация ...</td>\n      <td>Speaker B</td>\n    </tr>\n    <tr>\n      <th>8</th>\n      <td>Mark Fisher\\r</td>\n      <td>Страх_жизни__найти_свое_место__консультация_пс...</td>\n      <td>NaN</td>\n      <td>NaN</td>\n      <td>https://drive.google.com/open?id=1zQiPTLCYVEWO...</td>\n      <td>Страх жизни / найти свое место / консультация ...</td>\n      <td>Speaker B</td>\n    </tr>\n    <tr>\n      <th>9</th>\n      <td>Mark Fisher\\r</td>\n      <td>Расставание__Зависимость__Консультация_с_психо...</td>\n      <td>NaN</td>\n      <td>NaN</td>\n      <td>https://drive.google.com/open?id=1R7xzYf4vQRjN...</td>\n      <td>Расставание / Зависимость / Консультация с пси...</td>\n      <td>Speaker B</td>\n    </tr>\n    <tr>\n      <th>10</th>\n      <td>Mark Fisher\\r</td>\n      <td>Думаю_о_расставании__надо_расставаться__Консул...</td>\n      <td>NaN</td>\n      <td>NaN</td>\n      <td>https://drive.google.com/open?id=14t40Uh9kCL8A...</td>\n      <td>Думаю о расставании - надо расставаться? / Кон...</td>\n      <td>Speaker B</td>\n    </tr>\n    <tr>\n      <th>11</th>\n      <td>Mark Fisher\\r</td>\n      <td>Панические_атаки__Страх_смерти__Каковы_причины...</td>\n      <td>NaN</td>\n      <td>NaN</td>\n      <td>https://drive.google.com/open?id=1W6XMMQyqY6n8...</td>\n      <td>Панические атаки / Страх смерти / Каковы причи...</td>\n      <td>Speaker B</td>\n    </tr>\n    <tr>\n      <th>12</th>\n      <td>Mark Fisher\\r</td>\n      <td>Внутренний_критик_не_даёт_жить__Подавленная_аг...</td>\n      <td>NaN</td>\n      <td>NaN</td>\n      <td>https://drive.google.com/open?id=1umT3tbjmqYR_...</td>\n      <td>Внутренний критик не даёт жить / Подавленная а...</td>\n      <td>Speaker B</td>\n    </tr>\n    <tr>\n      <th>13</th>\n      <td>Mark Fisher\\r</td>\n      <td>Думаю_о_расставании_в_самом_начале__Страх_отно...</td>\n      <td>NaN</td>\n      <td>NaN</td>\n      <td>https://drive.google.com/open?id=1AxoeEukkIjlW...</td>\n      <td>Думаю о расставании в самом начале / Страх отн...</td>\n      <td>Speaker B</td>\n    </tr>\n    <tr>\n      <th>14</th>\n      <td>Mark Fisher\\r</td>\n      <td>Как_избавиться_от_чувства_вины__Отношения_с_бы...</td>\n      <td>NaN</td>\n      <td>NaN</td>\n      <td>https://drive.google.com/open?id=1tbMEOayVN_GT...</td>\n      <td>Как избавиться от чувства вины / Отношения с б...</td>\n      <td>Speaker B</td>\n    </tr>\n    <tr>\n      <th>15</th>\n      <td>Mark Fisher\\r</td>\n      <td>Как_просить_о_помощи__Страх_за_детей__Открытая...</td>\n      <td>NaN</td>\n      <td>NaN</td>\n      <td>https://drive.google.com/open?id=1wXnIcg1tewyi...</td>\n      <td>Как просить о помощи / Страх за детей / Открыт...</td>\n      <td>Speaker A</td>\n    </tr>\n    <tr>\n      <th>16</th>\n      <td>Mark Fisher\\r</td>\n      <td>Почему_я_до_сих_пор_не_зарабатываю_много_Как_у...</td>\n      <td>NaN</td>\n      <td>NaN</td>\n      <td>https://drive.google.com/open?id=1KlHdpDX0UrnR...</td>\n      <td>Почему я до сих пор не зарабатываю много? Как ...</td>\n      <td>Speaker B</td>\n    </tr>\n    <tr>\n      <th>17</th>\n      <td>Mark Fisher\\r</td>\n      <td>Открытая_консультация_психолога__сильные_чувст...</td>\n      <td>NaN</td>\n      <td>NaN</td>\n      <td>https://drive.google.com/open?id=1MQS8gHzDWTsS...</td>\n      <td>Открытая консультация психолога // сильные чув...</td>\n      <td>Speaker A</td>\n    </tr>\n    <tr>\n      <th>18</th>\n      <td>Mark Fisher\\r</td>\n      <td>ЖИВАЯ_КОНСУЛЬТАЦИЯ_ПСИХОЛОГА__Алкоголизм_треуг...</td>\n      <td>NaN</td>\n      <td>NaN</td>\n      <td>https://drive.google.com/open?id=1gMw_v4bmEeJv...</td>\n      <td>ЖИВАЯ КОНСУЛЬТАЦИЯ ПСИХОЛОГА // Алкоголизм, тр...</td>\n      <td>Speaker B</td>\n    </tr>\n    <tr>\n      <th>19</th>\n      <td>Mark Fisher\\r</td>\n      <td>Дать_себе_время__Изучить_себя_пощупать_себя__К...</td>\n      <td>NaN</td>\n      <td>NaN</td>\n      <td>https://drive.google.com/open?id=1EypBWyBqGSqk...</td>\n      <td>Дать себе время / Изучить себя, \"пощупать\" себ...</td>\n      <td>Speaker B</td>\n    </tr>\n  </tbody>\n</table>\n</div>"
     },
     "execution_count": 6,
     "metadata": {},
     "output_type": "execute_result"
    }
   ],
   "source": [
    "data"
   ]
  },
  {
   "cell_type": "code",
   "execution_count": 7,
   "outputs": [
    {
     "name": "stderr",
     "output_type": "stream",
     "text": [
      "DEPRECATION: pytorch-lightning 1.6.5 has a non-standard dependency specifier torch>=1.8.*. pip 23.3 will enforce this behaviour change. A possible replacement is to upgrade to a newer version of pytorch-lightning or contact the author to suggest that they release a version with a conforming dependency specifiers. Discussion can be found at https://github.com/pypa/pip/issues/12063\n"
     ]
    }
   ],
   "source": [
    "!pip install -q --upgrade --no-cache-dir gdown"
   ],
   "metadata": {
    "collapsed": false,
    "ExecuteTime": {
     "end_time": "2023-10-07T01:37:32.678174200Z",
     "start_time": "2023-10-07T01:37:29.630791400Z"
    }
   },
   "id": "5c3d6641f0edacdf"
  },
  {
   "cell_type": "code",
   "execution_count": 8,
   "id": "e6a525d0",
   "metadata": {
    "ExecuteTime": {
     "end_time": "2023-10-07T01:37:32.710203400Z",
     "start_time": "2023-10-07T01:37:32.680176Z"
    }
   },
   "outputs": [],
   "source": [
    "def download_data(output_dir='data'):\n",
    "    path_to_file = []\n",
    "\n",
    "    for title, url in zip(data['название'], data['TEXT']):\n",
    "        output = f'{output_dir}/{title}.txt'\n",
    "        path_to_file.append(output)\n",
    "        if not os.path.exists(output):\n",
    "            gdown.download(url=url, output=output, quiet=True, fuzzy=True)\n",
    "\n",
    "    data['path_to_file'] = path_to_file"
   ]
  },
  {
   "cell_type": "code",
   "execution_count": 9,
   "outputs": [
    {
     "data": {
      "text/plain": "           автор                                           название  берем  \\\n0           Amod             mental_health_counseling_conversations    NaN   \n1  heliosbrahmaд                      mental_health_chatbot_dataset    NaN   \n2  Mark Fisher\\r  Открытая_консультация_психолога__хочу_отношени...    NaN   \n3  Mark Fisher\\r  Открытая_консультация_психолога__хочу_отношени...    NaN   \n4  Mark Fisher\\r  Открытая_консультация_психолога__Алкоголизм__У...    NaN   \n\n   проблема                                               TEXT  \\\n0       NaN  https://drive.google.com/file/d/1D6mmyud1pL1v-...   \n1       NaN  https://drive.google.com/file/d/1605EyVkjyGqHD...   \n2       NaN  https://drive.google.com/open?id=1Fows9_H6R_k8...   \n3       NaN  https://drive.google.com/open?id=1yCcQqfBDxWpF...   \n4       NaN  https://drive.google.com/open?id=1q-FflfkGdHdK...   \n\n                                               VIDEO       flag  \\\n0  https://huggingface.co/datasets/Amod/mental_he...  Speaker A   \n1  https://huggingface.co/datasets/heliosbrahma/m...  Speaker A   \n2  Открытая консультация психолога // хочу отноше...  Speaker B   \n3  Открытая консультация психолога / хочу отношен...  Speaker A   \n4  Открытая консультация психолога / Алкоголизм /...  Speaker B   \n\n                                        path_to_file  \n0    data/mental_health_counseling_conversations.txt  \n1             data/mental_health_chatbot_dataset.txt  \n2  data/Открытая_консультация_психолога__хочу_отн...  \n3  data/Открытая_консультация_психолога__хочу_отн...  \n4  data/Открытая_консультация_психолога__Алкоголи...  ",
      "text/html": "<div>\n<style scoped>\n    .dataframe tbody tr th:only-of-type {\n        vertical-align: middle;\n    }\n\n    .dataframe tbody tr th {\n        vertical-align: top;\n    }\n\n    .dataframe thead th {\n        text-align: right;\n    }\n</style>\n<table border=\"1\" class=\"dataframe\">\n  <thead>\n    <tr style=\"text-align: right;\">\n      <th></th>\n      <th>автор</th>\n      <th>название</th>\n      <th>берем</th>\n      <th>проблема</th>\n      <th>TEXT</th>\n      <th>VIDEO</th>\n      <th>flag</th>\n      <th>path_to_file</th>\n    </tr>\n  </thead>\n  <tbody>\n    <tr>\n      <th>0</th>\n      <td>Amod</td>\n      <td>mental_health_counseling_conversations</td>\n      <td>NaN</td>\n      <td>NaN</td>\n      <td>https://drive.google.com/file/d/1D6mmyud1pL1v-...</td>\n      <td>https://huggingface.co/datasets/Amod/mental_he...</td>\n      <td>Speaker A</td>\n      <td>data/mental_health_counseling_conversations.txt</td>\n    </tr>\n    <tr>\n      <th>1</th>\n      <td>heliosbrahmaд</td>\n      <td>mental_health_chatbot_dataset</td>\n      <td>NaN</td>\n      <td>NaN</td>\n      <td>https://drive.google.com/file/d/1605EyVkjyGqHD...</td>\n      <td>https://huggingface.co/datasets/heliosbrahma/m...</td>\n      <td>Speaker A</td>\n      <td>data/mental_health_chatbot_dataset.txt</td>\n    </tr>\n    <tr>\n      <th>2</th>\n      <td>Mark Fisher\\r</td>\n      <td>Открытая_консультация_психолога__хочу_отношени...</td>\n      <td>NaN</td>\n      <td>NaN</td>\n      <td>https://drive.google.com/open?id=1Fows9_H6R_k8...</td>\n      <td>Открытая консультация психолога // хочу отноше...</td>\n      <td>Speaker B</td>\n      <td>data/Открытая_консультация_психолога__хочу_отн...</td>\n    </tr>\n    <tr>\n      <th>3</th>\n      <td>Mark Fisher\\r</td>\n      <td>Открытая_консультация_психолога__хочу_отношени...</td>\n      <td>NaN</td>\n      <td>NaN</td>\n      <td>https://drive.google.com/open?id=1yCcQqfBDxWpF...</td>\n      <td>Открытая консультация психолога / хочу отношен...</td>\n      <td>Speaker A</td>\n      <td>data/Открытая_консультация_психолога__хочу_отн...</td>\n    </tr>\n    <tr>\n      <th>4</th>\n      <td>Mark Fisher\\r</td>\n      <td>Открытая_консультация_психолога__Алкоголизм__У...</td>\n      <td>NaN</td>\n      <td>NaN</td>\n      <td>https://drive.google.com/open?id=1q-FflfkGdHdK...</td>\n      <td>Открытая консультация психолога / Алкоголизм /...</td>\n      <td>Speaker B</td>\n      <td>data/Открытая_консультация_психолога__Алкоголи...</td>\n    </tr>\n  </tbody>\n</table>\n</div>"
     },
     "execution_count": 9,
     "metadata": {},
     "output_type": "execute_result"
    }
   ],
   "source": [
    "download_data()\n",
    "data.head()"
   ],
   "metadata": {
    "collapsed": false,
    "ExecuteTime": {
     "end_time": "2023-10-07T01:37:33.453648100Z",
     "start_time": "2023-10-07T01:37:33.421621600Z"
    }
   },
   "id": "4314fd77ce07e8da"
  },
  {
   "cell_type": "code",
   "execution_count": 10,
   "id": "b2f9e486",
   "metadata": {
    "ExecuteTime": {
     "end_time": "2023-10-07T01:37:35.164700600Z",
     "start_time": "2023-10-07T01:37:35.154691500Z"
    }
   },
   "outputs": [],
   "source": [
    "def convert_to_prompt_completion_pairs(text, flag='Speaker B'):\n",
    "    pairs = []\n",
    "    lines = text.strip().split('\\n')\n",
    "\n",
    "    if flag == \"Speaker A\":\n",
    "        completion = current_prompt = ''\n",
    "        for line in lines:\n",
    "            if line.startswith(\"Speaker A\"):\n",
    "                if completion and current_prompt:\n",
    "                    pairs.append({\"prompt\": current_prompt, \"completion\": completion})\n",
    "                current_prompt = line[len(\"Speaker A:\") + 1:].strip()\n",
    "            elif line.startswith(\"Speaker B:\"):\n",
    "                if current_prompt:\n",
    "                    completion = line[len(\"Speaker B:\") + 1:].strip()\n",
    "            else:\n",
    "                completion += '\\n' + line.strip()\n",
    "\n",
    "    elif flag == \"Speaker B\":\n",
    "        completion = current_prompt = ''\n",
    "        for line in lines:\n",
    "            if line.startswith(\"Speaker B:\"):\n",
    "                if completion and current_prompt:\n",
    "                    pairs.append({\"prompt\": current_prompt, \"completion\": completion})\n",
    "                current_prompt = line[len(\"Speaker A:\") + 1:].strip()\n",
    "            elif line.startswith(\"Speaker A:\"):\n",
    "                if current_prompt:\n",
    "                    completion = line[len(\"Speaker A:\") + 1:].strip()\n",
    "            else:\n",
    "                completion += '\\n' + line.strip()\n",
    "\n",
    "    return pairs"
   ]
  },
  {
   "cell_type": "code",
   "execution_count": 11,
   "id": "fabf1b41",
   "metadata": {
    "ExecuteTime": {
     "end_time": "2023-10-07T01:37:36.775244Z",
     "start_time": "2023-10-07T01:37:36.763233500Z"
    }
   },
   "outputs": [],
   "source": [
    "def get_pairs(data):\n",
    "    pairs = []\n",
    "    for file_name, flag in zip(data['path_to_file'], data['flag']):\n",
    "        with open(file_name, 'r', encoding='utf8') as file:\n",
    "            text = file.read()\n",
    "            pairs.append(convert_to_prompt_completion_pairs(text, flag))\n",
    "    return pairs"
   ]
  },
  {
   "cell_type": "code",
   "execution_count": 12,
   "outputs": [
    {
     "name": "stdout",
     "output_type": "stream",
     "text": [
      "{'prompt': 'What are symptoms of panic attack vs. anxiety attack?', 'completion': \"Panic attacks and anxiety attacks can share some similarities, but they also have distinct features. It's important to remember that I am not a medical professional, and if you or someone you know is experiencing these symptoms, seeking help from a qualified healthcare professional is essential.\\n\\nPanic Attack Symptoms:\\nA panic attack is a sudden and intense surge of fear or discomfort that reaches its peak within minutes. Some common symptoms of a panic attack include:\\n\\n1. Heart palpitations, pounding heart, or accelerated heart rate.\\n2. Sweating or trembling.\\n3. Shortness of breath or feeling smothered.\\n4. Feeling of choking or a lump in the throat.\\n5. Chest pain or discomfort.\\n6. Nausea or abdominal distress.\\n7. Dizziness, lightheadedness, or feeling faint.\\n8. Chills or hot flashes.\\n9. Numbness or tingling sensations.\\n10. Fear of losing control or going crazy.\\n11. Fear of dying.\\n12. A sense of detachment from reality or oneself (depersonalization).\\n13. A feeling of being detached from the surroundings (derealization).\\n\\nIt's important to note that panic attacks are often unpredictable and can occur even in situations where there is no immediate danger.\\n\\nAnxiety Attack Symptoms:\\nAnxiety attacks are different from panic attacks in terms of intensity and duration. While panic attacks are sudden and reach their peak rapidly, anxiety attacks are typically associated with prolonged feelings of worry, nervousness, and fear. Symptoms of an anxiety attack may include:\\n\\n1. Excessive worrying or fear about future events or situations.\\n2. Restlessness or feeling on edge.\\n3. Muscle tension or aches.\\n4. Difficulty concentrating or mind going blank.\\n5. Irritability.\\n6. Fatigue or feeling easily fatigued.\\n7. Sleep disturbances, such as difficulty falling asleep or staying asleep.\\n8. Avoidance of triggers or situations that provoke anxiety.\\n\\nAnxiety attacks can be triggered by specific stressors or occur without an apparent cause. They might build up gradually and persist for an extended period.\\n\\nRemember, it's crucial to consult a qualified mental health professional to obtain an accurate diagnosis and receive personalized guidance and support. They can help develop a suitable treatment plan to manage panic attacks, anxiety attacks, or any other mental health concerns you may be facing.\"}\n"
     ]
    }
   ],
   "source": [
    "pairs = get_pairs(data=data)\n",
    "print(pairs[1][1])"
   ],
   "metadata": {
    "collapsed": false,
    "ExecuteTime": {
     "end_time": "2023-10-07T01:37:37.560987500Z",
     "start_time": "2023-10-07T01:37:37.515947200Z"
    }
   },
   "id": "8569270095f77340"
  },
  {
   "cell_type": "code",
   "execution_count": 13,
   "id": "aa318fee",
   "metadata": {
    "ExecuteTime": {
     "end_time": "2023-10-07T01:37:42.019395600Z",
     "start_time": "2023-10-07T01:37:38.910565300Z"
    }
   },
   "outputs": [],
   "source": [
    "!pip install -qq tiktoken"
   ]
  },
  {
   "cell_type": "code",
   "execution_count": 14,
   "outputs": [
    {
     "name": "stdout",
     "output_type": "stream",
     "text": [
      "Tokenizer: <Encoding 'p50k_base'>\n",
      "Token count: 9\n",
      "[1212, 318, 281, 1672, 2420, 284, 954, 16326, 13]\n"
     ]
    }
   ],
   "source": [
    "import tiktoken\n",
    "\n",
    "# Initialize the tokenizer with the Davinci-003 model's maximum token limit (4096 tokens)\n",
    "\n",
    "encoding = tiktoken.encoding_for_model(\"text-davinci-003\")\n",
    "# Your text to count tokens in\n",
    "text = \"This is an example text to count tokens.\"\n",
    "\n",
    "# Tokenize the text and count tokens\n",
    "token_count = len(encoding.encode(text))\n",
    "\n",
    "print(f'Tokenizer: {encoding}')\n",
    "print(f\"Token count: {token_count}\")\n",
    "print(encoding.encode(text))"
   ],
   "metadata": {
    "collapsed": false,
    "ExecuteTime": {
     "end_time": "2023-10-07T01:37:42.182541900Z",
     "start_time": "2023-10-07T01:37:42.020395700Z"
    }
   },
   "id": "229cfdfa6dfb27e8"
  },
  {
   "cell_type": "code",
   "execution_count": 15,
   "id": "b56bdee7",
   "metadata": {
    "ExecuteTime": {
     "end_time": "2023-10-07T01:37:42.195553200Z",
     "start_time": "2023-10-07T01:37:42.179539Z"
    }
   },
   "outputs": [],
   "source": [
    "def num_tokens_from_string(input_element, encoding_name: str) -> int:\n",
    "    \"\"\"Returns the number of tokens in a text string.\"\"\"\n",
    "    encoding = tiktoken.get_encoding(encoding_name)\n",
    "    num_tokens = len(encoding.encode(input_element))\n",
    "    return num_tokens"
   ]
  },
  {
   "cell_type": "code",
   "execution_count": 16,
   "outputs": [],
   "source": [
    "def num_tokens_from_folder(folder='data/', encoding_name: str = 'p50k_base') -> int:\n",
    "    '''\n",
    "    Return the number of tokens for the davinci-003 model in the folder.\n",
    "    \n",
    "    :param folder: The folder where you need to count the number of tokens \n",
    "    :param encoding_name: Tokenizer name\n",
    "    :return: number of tokens\n",
    "    '''\n",
    "    pairs = []\n",
    "\n",
    "    for file_name in os.listdir(folder):\n",
    "        with open(f'data/{file_name}', 'r', encoding='utf8') as file:\n",
    "            text = file.read()\n",
    "            pairs.append(convert_to_prompt_completion_pairs(text))\n",
    "\n",
    "    full_text = ''\n",
    "    for file_pairs in pairs:\n",
    "        for pair in file_pairs:\n",
    "            full_text += pair['prompt'] + ' ' + pair['completion'] + ' '\n",
    "\n",
    "    encoding = tiktoken.get_encoding(encoding_name)\n",
    "    num_tokens = len(encoding.encode(full_text))\n",
    "\n",
    "    return num_tokens"
   ],
   "metadata": {
    "collapsed": false,
    "ExecuteTime": {
     "end_time": "2023-10-07T01:37:42.227582100Z",
     "start_time": "2023-10-07T01:37:42.198557800Z"
    }
   },
   "id": "eb1f882bee37c072"
  },
  {
   "cell_type": "code",
   "execution_count": 17,
   "outputs": [
    {
     "name": "stdout",
     "output_type": "stream",
     "text": [
      "214469\n"
     ]
    }
   ],
   "source": [
    "print(num_tokens_from_folder('data/'))"
   ],
   "metadata": {
    "collapsed": false,
    "ExecuteTime": {
     "end_time": "2023-10-07T01:37:42.457791600Z",
     "start_time": "2023-10-07T01:37:42.210567500Z"
    }
   },
   "id": "a68badfad7c5f482"
  },
  {
   "cell_type": "code",
   "execution_count": 18,
   "outputs": [],
   "source": [
    "import re\n",
    "\n",
    "\n",
    "def validate_jsonl(fine_tune_data, validate_api=True, prompt_separator=\"->\", completion_stop=\"STOPSTOP\"):\n",
    "    if not fine_tune_data:\n",
    "        return False\n",
    "    output = []\n",
    "    count = 0\n",
    "    validated_line = False\n",
    "    regex_to_validate = re.compile('')\n",
    "\n",
    "    if validate_api:\n",
    "        regex_to_validate = re.compile(\n",
    "            r'^\\{\"prompt\":\\s*\"([^\"]+)\\s*{}\",\\s*\"completion\":\\s*\"\\s([^\"]+)\\s*{}\"\\s*\\}$'.format(prompt_separator,\n",
    "                                                                                              completion_stop))\n",
    "    else:\n",
    "        regex_to_validate = re.compile(r'^\\{\"prompt\":\\s*\"([^\"]+)\",\\s*\"completion\":\\s*\"([^\"]+)\"\\s*\\}$')\n",
    "\n",
    "    for line in fine_tune_data.split(\"\\r\\n\"):\n",
    "        count += 1\n",
    "        validated_line = bool(regex_to_validate.match(line))\n",
    "        output.append({'count': count, 'valid': validated_line, 'line': line})\n",
    "\n",
    "    return output"
   ],
   "metadata": {
    "collapsed": false,
    "ExecuteTime": {
     "end_time": "2023-10-07T01:37:50.357370100Z",
     "start_time": "2023-10-07T01:37:50.343358600Z"
    }
   },
   "id": "dab74ea5"
  }
 ],
 "metadata": {
  "kernelspec": {
   "display_name": "Python 3 (ipykernel)",
   "language": "python",
   "name": "python3"
  },
  "language_info": {
   "codemirror_mode": {
    "name": "ipython",
    "version": 3
   },
   "file_extension": ".py",
   "mimetype": "text/x-python",
   "name": "python",
   "nbconvert_exporter": "python",
   "pygments_lexer": "ipython3",
   "version": "3.11.1"
  }
 },
 "nbformat": 4,
 "nbformat_minor": 5
}
