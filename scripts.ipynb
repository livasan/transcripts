{
 "cells": [
  {
   "cell_type": "code",
   "execution_count": 1,
   "outputs": [],
   "source": [
    "!pip install -qq tiktoken"
   ],
   "metadata": {
    "collapsed": false,
    "ExecuteTime": {
     "end_time": "2023-10-21T13:34:34.563778300Z",
     "start_time": "2023-10-21T13:34:32.044453600Z"
    }
   },
   "id": "e06ae466d05939b3"
  },
  {
   "cell_type": "code",
   "execution_count": 2,
   "id": "7554bc65",
   "metadata": {
    "ExecuteTime": {
     "end_time": "2023-10-21T13:34:35.359994600Z",
     "start_time": "2023-10-21T13:34:34.565771900Z"
    }
   },
   "outputs": [],
   "source": [
    "import pandas as pd\n",
    "import os\n",
    "from pydrive.auth import GoogleAuth\n",
    "\n",
    "from pydrive.drive import GoogleDrive\n",
    "\n",
    "import json\n",
    "import gdown\n",
    "import re\n",
    "import tiktoken"
   ]
  },
  {
   "cell_type": "code",
   "execution_count": 3,
   "id": "457cb7cf",
   "metadata": {
    "ExecuteTime": {
     "end_time": "2023-10-21T13:34:36.414405500Z",
     "start_time": "2023-10-21T13:34:35.360994800Z"
    }
   },
   "outputs": [
    {
     "name": "stdout",
     "output_type": "stream",
     "text": [
      "Your browser has been opened to visit:\n",
      "\n",
      "    https://accounts.google.com/o/oauth2/auth?client_id=911515843534-tovhamtddg2t9f43fk19k21t0kj7cnon.apps.googleusercontent.com&redirect_uri=http%3A%2F%2Flocalhost%3A8080%2F&scope=https%3A%2F%2Fwww.googleapis.com%2Fauth%2Fdrive&access_type=offline&response_type=code\n",
      "Authentication successful.\n"
     ]
    }
   ],
   "source": [
    "gauth = GoogleAuth()\n",
    "gauth.LocalWebserverAuth()\n",
    "\n",
    "drive = GoogleDrive(gauth)"
   ]
  },
  {
   "cell_type": "code",
   "execution_count": 4,
   "id": "ff888a76",
   "metadata": {
    "ExecuteTime": {
     "end_time": "2023-10-21T13:34:36.461261900Z",
     "start_time": "2023-10-21T13:34:36.414405500Z"
    }
   },
   "outputs": [
    {
     "name": "stderr",
     "output_type": "stream",
     "text": [
      "A subdirectory or file data already exists.\n"
     ]
    }
   ],
   "source": [
    "!mkdir data"
   ]
  },
  {
   "cell_type": "code",
   "execution_count": 5,
   "id": "a6c6d79a",
   "metadata": {
    "ExecuteTime": {
     "end_time": "2023-10-21T13:34:36.507017600Z",
     "start_time": "2023-10-21T13:34:36.463258200Z"
    }
   },
   "outputs": [],
   "source": [
    "data = pd.read_csv('results_txt/results.csv')\n",
    "data['flag'] = data['flag'].apply(lambda a: 'Speaker ' + a)\n",
    "data['название'] = data['название'].apply(lambda s: re.sub(r'[.,\"\\'-?:!;]', '', s).\n",
    "                                          strip().replace(\" \", \"_\"))\n",
    "data = data.drop(columns=['автор', 'берем', 'проблема', 'VIDEO'])"
   ]
  },
  {
   "cell_type": "code",
   "execution_count": 6,
   "id": "225d3562",
   "metadata": {
    "ExecuteTime": {
     "end_time": "2023-10-21T13:34:36.517001600Z",
     "start_time": "2023-10-21T13:34:36.478272300Z"
    }
   },
   "outputs": [
    {
     "data": {
      "text/plain": "                                            название  \\\n0             mental_health_counseling_conversations   \n1                      mental_health_chatbot_dataset   \n2  Открытая_консультация_психолога__хочу_отношени...   \n3  Открытая_консультация_психолога__хочу_отношени...   \n4  Открытая_консультация_психолога__Алкоголизм__У...   \n\n                                                TEXT       flag  \n0  https://drive.google.com/file/d/1D6mmyud1pL1v-...  Speaker A  \n1  https://drive.google.com/file/d/1605EyVkjyGqHD...  Speaker A  \n2  https://drive.google.com/open?id=1Fows9_H6R_k8...  Speaker B  \n3  https://drive.google.com/open?id=1yCcQqfBDxWpF...  Speaker A  \n4  https://drive.google.com/open?id=1q-FflfkGdHdK...  Speaker B  ",
      "text/html": "<div>\n<style scoped>\n    .dataframe tbody tr th:only-of-type {\n        vertical-align: middle;\n    }\n\n    .dataframe tbody tr th {\n        vertical-align: top;\n    }\n\n    .dataframe thead th {\n        text-align: right;\n    }\n</style>\n<table border=\"1\" class=\"dataframe\">\n  <thead>\n    <tr style=\"text-align: right;\">\n      <th></th>\n      <th>название</th>\n      <th>TEXT</th>\n      <th>flag</th>\n    </tr>\n  </thead>\n  <tbody>\n    <tr>\n      <th>0</th>\n      <td>mental_health_counseling_conversations</td>\n      <td>https://drive.google.com/file/d/1D6mmyud1pL1v-...</td>\n      <td>Speaker A</td>\n    </tr>\n    <tr>\n      <th>1</th>\n      <td>mental_health_chatbot_dataset</td>\n      <td>https://drive.google.com/file/d/1605EyVkjyGqHD...</td>\n      <td>Speaker A</td>\n    </tr>\n    <tr>\n      <th>2</th>\n      <td>Открытая_консультация_психолога__хочу_отношени...</td>\n      <td>https://drive.google.com/open?id=1Fows9_H6R_k8...</td>\n      <td>Speaker B</td>\n    </tr>\n    <tr>\n      <th>3</th>\n      <td>Открытая_консультация_психолога__хочу_отношени...</td>\n      <td>https://drive.google.com/open?id=1yCcQqfBDxWpF...</td>\n      <td>Speaker A</td>\n    </tr>\n    <tr>\n      <th>4</th>\n      <td>Открытая_консультация_психолога__Алкоголизм__У...</td>\n      <td>https://drive.google.com/open?id=1q-FflfkGdHdK...</td>\n      <td>Speaker B</td>\n    </tr>\n  </tbody>\n</table>\n</div>"
     },
     "execution_count": 6,
     "metadata": {},
     "output_type": "execute_result"
    }
   ],
   "source": [
    "data.head()"
   ]
  },
  {
   "cell_type": "code",
   "execution_count": 7,
   "id": "e6a525d0",
   "metadata": {
    "ExecuteTime": {
     "end_time": "2023-10-21T13:34:36.518002700Z",
     "start_time": "2023-10-21T13:34:36.493286600Z"
    }
   },
   "outputs": [],
   "source": [
    "def download_data(data, output_dir='data'):\n",
    "    '''\n",
    "    The input dataframe must contain links to folders in Google Drive\n",
    "    '''\n",
    "    path_to_file = []\n",
    "\n",
    "    for title, url in zip(data['название'], data['TEXT']):\n",
    "        output = f'{output_dir}/{title}.txt'\n",
    "        path_to_file.append(output)\n",
    "        if not os.path.exists(output):\n",
    "            gdown.download(url=url, output=output, quiet=True, \n",
    "                           fuzzy=True, use_cookies=True)\n",
    "\n",
    "    data['path_to_file'] = path_to_file\n",
    "\n",
    "    return data"
   ]
  },
  {
   "cell_type": "code",
   "execution_count": 8,
   "outputs": [
    {
     "data": {
      "text/plain": "                                            название  \\\n0             mental_health_counseling_conversations   \n1                      mental_health_chatbot_dataset   \n2  Открытая_консультация_психолога__хочу_отношени...   \n3  Открытая_консультация_психолога__хочу_отношени...   \n4  Открытая_консультация_психолога__Алкоголизм__У...   \n\n                                                TEXT       flag  \\\n0  https://drive.google.com/file/d/1D6mmyud1pL1v-...  Speaker A   \n1  https://drive.google.com/file/d/1605EyVkjyGqHD...  Speaker A   \n2  https://drive.google.com/open?id=1Fows9_H6R_k8...  Speaker B   \n3  https://drive.google.com/open?id=1yCcQqfBDxWpF...  Speaker A   \n4  https://drive.google.com/open?id=1q-FflfkGdHdK...  Speaker B   \n\n                                        path_to_file  \n0    data/mental_health_counseling_conversations.txt  \n1             data/mental_health_chatbot_dataset.txt  \n2  data/Открытая_консультация_психолога__хочу_отн...  \n3  data/Открытая_консультация_психолога__хочу_отн...  \n4  data/Открытая_консультация_психолога__Алкоголи...  ",
      "text/html": "<div>\n<style scoped>\n    .dataframe tbody tr th:only-of-type {\n        vertical-align: middle;\n    }\n\n    .dataframe tbody tr th {\n        vertical-align: top;\n    }\n\n    .dataframe thead th {\n        text-align: right;\n    }\n</style>\n<table border=\"1\" class=\"dataframe\">\n  <thead>\n    <tr style=\"text-align: right;\">\n      <th></th>\n      <th>название</th>\n      <th>TEXT</th>\n      <th>flag</th>\n      <th>path_to_file</th>\n    </tr>\n  </thead>\n  <tbody>\n    <tr>\n      <th>0</th>\n      <td>mental_health_counseling_conversations</td>\n      <td>https://drive.google.com/file/d/1D6mmyud1pL1v-...</td>\n      <td>Speaker A</td>\n      <td>data/mental_health_counseling_conversations.txt</td>\n    </tr>\n    <tr>\n      <th>1</th>\n      <td>mental_health_chatbot_dataset</td>\n      <td>https://drive.google.com/file/d/1605EyVkjyGqHD...</td>\n      <td>Speaker A</td>\n      <td>data/mental_health_chatbot_dataset.txt</td>\n    </tr>\n    <tr>\n      <th>2</th>\n      <td>Открытая_консультация_психолога__хочу_отношени...</td>\n      <td>https://drive.google.com/open?id=1Fows9_H6R_k8...</td>\n      <td>Speaker B</td>\n      <td>data/Открытая_консультация_психолога__хочу_отн...</td>\n    </tr>\n    <tr>\n      <th>3</th>\n      <td>Открытая_консультация_психолога__хочу_отношени...</td>\n      <td>https://drive.google.com/open?id=1yCcQqfBDxWpF...</td>\n      <td>Speaker A</td>\n      <td>data/Открытая_консультация_психолога__хочу_отн...</td>\n    </tr>\n    <tr>\n      <th>4</th>\n      <td>Открытая_консультация_психолога__Алкоголизм__У...</td>\n      <td>https://drive.google.com/open?id=1q-FflfkGdHdK...</td>\n      <td>Speaker B</td>\n      <td>data/Открытая_консультация_психолога__Алкоголи...</td>\n    </tr>\n  </tbody>\n</table>\n</div>"
     },
     "execution_count": 8,
     "metadata": {},
     "output_type": "execute_result"
    }
   ],
   "source": [
    "data = download_data(data)\n",
    "data.head()"
   ],
   "metadata": {
    "collapsed": false,
    "ExecuteTime": {
     "end_time": "2023-10-21T13:34:36.527011300Z",
     "start_time": "2023-10-21T13:34:36.510995700Z"
    }
   },
   "id": "4314fd77ce07e8da"
  },
  {
   "cell_type": "code",
   "execution_count": 9,
   "outputs": [
    {
     "name": "stdout",
     "output_type": "stream",
     "text": [
      "Who said this to you?\n"
     ]
    }
   ],
   "source": [
    "def clean(string: str) -> str:\n",
    "    while '(' in string or ')' in string:\n",
    "        left = string.index(' (') if '(' in string else 0\n",
    "        right = string.index(')') if ')' in string else -2\n",
    "        string = string[:left] + string[right + 1:]\n",
    "\n",
    "    while '[' in string:\n",
    "        left = string.index('[')\n",
    "        right = string.index(']')\n",
    "        string = string[:left] + string[left + 1: right] + string[right + 1:]\n",
    "\n",
    "    return string\n",
    "\n",
    "\n",
    "print(clean(\"Who said this [to you] (ph)?\"))"
   ],
   "metadata": {
    "collapsed": false,
    "ExecuteTime": {
     "end_time": "2023-10-21T13:34:36.563651300Z",
     "start_time": "2023-10-21T13:34:36.525008400Z"
    }
   },
   "id": "e3febfc176397e41"
  },
  {
   "cell_type": "code",
   "execution_count": 10,
   "outputs": [],
   "source": [
    "def to_speakers(text: str):\n",
    "    f = False\n",
    "    text = text.split('\\n')\n",
    "    output = ''\n",
    "\n",
    "    for line in text:\n",
    "        if not f:\n",
    "            if line.startswith('BEGIN TRANSCRIPT'):\n",
    "                f = 1\n",
    "            continue\n",
    "        if line.startswith('END TRANSCRIPT'):\n",
    "            break\n",
    "\n",
    "        if line.startswith('CLIENT'):\n",
    "            output += 'Speaker A' + clean(line[len('CLIENT'):]) + '\\n'\n",
    "\n",
    "        elif line.startswith('THERAPIST'):\n",
    "            output += 'Speaker B' + clean(line[len('THERAPIST'):]) + '\\n'\n",
    "\n",
    "        else:\n",
    "            output += clean(line) + '\\n'\n",
    "\n",
    "    return (output, 'Speaker A')"
   ],
   "metadata": {
    "collapsed": false,
    "ExecuteTime": {
     "end_time": "2023-10-21T13:34:36.617263700Z",
     "start_time": "2023-10-21T13:34:36.541023300Z"
    }
   },
   "id": "748499f0f709c6f2"
  },
  {
   "cell_type": "code",
   "execution_count": 11,
   "id": "b2f9e486",
   "metadata": {
    "ExecuteTime": {
     "end_time": "2023-10-21T13:34:36.645289300Z",
     "start_time": "2023-10-21T13:34:36.561649200Z"
    }
   },
   "outputs": [],
   "source": [
    "def convert_to_prompt_completion_pairs(text: str, flag=None) -> list[dict]:\n",
    "    '''\n",
    "    Convert pairs from dialogue to prompt completion pairs. \n",
    "    If your file is different from the Speaker A, Speaker B format, then do not pass anything to the flag variable\n",
    "    :param flag: {Speaker A, Speaker B, None}\n",
    "    :return: prompt completion pairs\n",
    "    '''\n",
    "    pairs = []\n",
    "    lines = text.strip().replace('\\xa0', '').split('\\n')\n",
    "\n",
    "    if flag == \"Speaker A\":\n",
    "        completion = current_prompt = ''\n",
    "        for line in lines:\n",
    "            if line.startswith(\"Speaker A\"):\n",
    "                if completion and current_prompt:\n",
    "                    pairs.append({\"prompt\": current_prompt, \"completion\": completion})\n",
    "                current_prompt = line[len(\"Speaker A:\") + 1:].strip()\n",
    "                completion = ''\n",
    "                \n",
    "            elif line.startswith(\"Speaker B:\"):\n",
    "                if current_prompt:\n",
    "                    completion = line[len(\"Speaker B:\") + 1:].strip()\n",
    "\n",
    "            elif line == '\\n':\n",
    "                continue\n",
    "\n",
    "            else:\n",
    "                if completion:\n",
    "                    completion += '\\n' + line.strip()\n",
    "                else:\n",
    "                    current_prompt += line.strip()\n",
    "\n",
    "    elif flag == \"Speaker B\":\n",
    "        completion = current_prompt = ''\n",
    "        for line in lines:\n",
    "            if line.startswith(\"Speaker B:\"):\n",
    "                if completion and current_prompt:\n",
    "                    pairs.append({\"prompt\": current_prompt, \"completion\": completion})\n",
    "                current_prompt = line[len(\"Speaker A:\") + 1:].strip()\n",
    "\n",
    "            elif line.startswith(\"Speaker A:\"):\n",
    "                if current_prompt:\n",
    "                    completion = line[len(\"Speaker A:\") + 1:].strip()\n",
    "            \n",
    "            elif line == '\\n':\n",
    "                continue\n",
    "\n",
    "            else:\n",
    "                if completion:\n",
    "                    completion += '\\n' + line.strip()\n",
    "                else:\n",
    "                    current_prompt += line.strip()\n",
    "\n",
    "    else:\n",
    "        return convert_to_prompt_completion_pairs(*to_speakers(text))\n",
    "\n",
    "    return pairs"
   ]
  },
  {
   "cell_type": "code",
   "execution_count": 12,
   "id": "fabf1b41",
   "metadata": {
    "ExecuteTime": {
     "end_time": "2023-10-21T13:34:36.679327500Z",
     "start_time": "2023-10-21T13:34:36.574227800Z"
    }
   },
   "outputs": [],
   "source": [
    "def get_pairs(data):\n",
    "    pairs = []\n",
    "    for file_name, flag in zip(data['path_to_file'], data['flag']):\n",
    "        with open(file_name, 'r', encoding='utf8', errors='ignore') as file:\n",
    "            try:\n",
    "                text = file.read()\n",
    "                pairs.append(convert_to_prompt_completion_pairs(text, flag))\n",
    "            except UnicodeDecodeError:\n",
    "                print(file_name)\n",
    "            \n",
    "    return pairs"
   ]
  },
  {
   "cell_type": "code",
   "execution_count": 13,
   "outputs": [
    {
     "name": "stdout",
     "output_type": "stream",
     "text": [
      "{'prompt': 'How can I get to a place where I can be content from day to day?', 'completion': \"It's important to take a look inside and see what's going on with you to cause you to have these feelings. Please contact us in whatever way is most comfortable for you and we can get you set up with someone who will help you figure out this space in your life.\"}\n"
     ]
    }
   ],
   "source": [
    "pairs = get_pairs(data=data)\n",
    "print(pairs[0][0])"
   ],
   "metadata": {
    "collapsed": false,
    "ExecuteTime": {
     "end_time": "2023-10-21T13:34:36.697344500Z",
     "start_time": "2023-10-21T13:34:36.589242Z"
    }
   },
   "id": "8569270095f77340"
  },
  {
   "cell_type": "code",
   "execution_count": 14,
   "outputs": [],
   "source": [
    "def num_tokens_from_string(input_element, encoding_name: str = 'p50k_base') -> int:\n",
    "    '''Returns the number of tokens in a text string.'''\n",
    "    encoding = tiktoken.get_encoding(encoding_name)\n",
    "    num_tokens = len(encoding.encode(input_element))\n",
    "    return num_tokens"
   ],
   "metadata": {
    "collapsed": false,
    "ExecuteTime": {
     "end_time": "2023-10-21T13:34:36.698346300Z",
     "start_time": "2023-10-21T13:34:36.606256700Z"
    }
   },
   "id": "d7f962f92d82d416"
  },
  {
   "cell_type": "code",
   "execution_count": 15,
   "outputs": [],
   "source": [
    "def convert_to_json(pairs, output_file='prompt_completion.jsonl'):\n",
    "    with open(output_file, 'w', encoding='utf8') as output_file:\n",
    "        for file_pairs in pairs:\n",
    "            for pair in file_pairs:\n",
    "                if num_tokens_from_string(pair['prompt']) < 2048 and \\\n",
    "                        num_tokens_from_string(pair['completion']) < 2048:\n",
    "                    json.dump({'prompt': pair['prompt'] + ' ->',\n",
    "                               'completion': ' ' + pair['completion'] + '\\n'},\n",
    "                              output_file)\n",
    "                    output_file.write('\\n')\n",
    "\n",
    "\n",
    "convert_to_json(pairs, 'prompt_completion.jsonl')"
   ],
   "metadata": {
    "collapsed": false,
    "ExecuteTime": {
     "end_time": "2023-10-21T13:34:36.983381400Z",
     "start_time": "2023-10-21T13:34:36.620267600Z"
    }
   },
   "id": "482fa65c4352905"
  },
  {
   "cell_type": "code",
   "execution_count": 16,
   "outputs": [
    {
     "name": "stdout",
     "output_type": "stream",
     "text": [
      "Tokenizer: <Encoding 'p50k_base'>\n",
      "Token count: 4\n",
      "[15496, 11, 2159, 0]\n"
     ]
    }
   ],
   "source": [
    "# Initialize the tokenizer with the Davinci-003 model's maximum token limit (4096 tokens)\n",
    "encoding = tiktoken.encoding_for_model(\"text-davinci-003\")\n",
    "# Your text to count tokens in\n",
    "text = \"Hello, World!\"\n",
    "\n",
    "# Tokenize the text and count tokens\n",
    "token_count = len(encoding.encode(text))\n",
    "\n",
    "print(f'Tokenizer: {encoding}')\n",
    "print(f\"Token count: {token_count}\")\n",
    "print(encoding.encode(text))"
   ],
   "metadata": {
    "collapsed": false,
    "ExecuteTime": {
     "end_time": "2023-10-21T13:34:37.002399900Z",
     "start_time": "2023-10-21T13:34:36.984385700Z"
    }
   },
   "id": "229cfdfa6dfb27e8"
  },
  {
   "cell_type": "code",
   "execution_count": 17,
   "outputs": [],
   "source": [
    "def num_tokens_from_json(file_name: str, encoding_name: str = 'p50k_base') -> int:\n",
    "    num_tokens = 0\n",
    "    encoding = tiktoken.get_encoding(encoding_name)\n",
    "    full_text = ''\n",
    "    with open(file_name, 'r', encoding='utf8') as f:\n",
    "        for pair in f:\n",
    "            pair = json.loads(pair)\n",
    "            full_text += pair['prompt'] + ' ' + pair['completion'] + ' '\n",
    "        num_tokens += len(encoding.encode(full_text.strip()))\n",
    "\n",
    "    return num_tokens"
   ],
   "metadata": {
    "collapsed": false,
    "ExecuteTime": {
     "end_time": "2023-10-21T13:34:37.045451100Z",
     "start_time": "2023-10-21T13:34:37.002399900Z"
    }
   },
   "id": "1586e0b35482254d"
  },
  {
   "cell_type": "code",
   "execution_count": 18,
   "outputs": [
    {
     "data": {
      "text/plain": "242677"
     },
     "execution_count": 18,
     "metadata": {},
     "output_type": "execute_result"
    }
   ],
   "source": [
    "num_tokens_from_json('prompt_completion.jsonl')"
   ],
   "metadata": {
    "collapsed": false,
    "ExecuteTime": {
     "end_time": "2023-10-21T13:34:37.300920600Z",
     "start_time": "2023-10-21T13:34:37.018413700Z"
    }
   },
   "id": "477a4f3658836754"
  },
  {
   "cell_type": "code",
   "execution_count": 18,
   "outputs": [],
   "source": [],
   "metadata": {
    "collapsed": false,
    "ExecuteTime": {
     "end_time": "2023-10-21T13:34:37.346960Z",
     "start_time": "2023-10-21T13:34:37.300920600Z"
    }
   },
   "id": "138533c8a84f0632"
  }
 ],
 "metadata": {
  "kernelspec": {
   "display_name": "Python 3 (ipykernel)",
   "language": "python",
   "name": "python3"
  },
  "language_info": {
   "codemirror_mode": {
    "name": "ipython",
    "version": 3
   },
   "file_extension": ".py",
   "mimetype": "text/x-python",
   "name": "python",
   "nbconvert_exporter": "python",
   "pygments_lexer": "ipython3",
   "version": "3.11.1"
  }
 },
 "nbformat": 4,
 "nbformat_minor": 5
}
